{
 "cells": [
  {
   "cell_type": "markdown",
   "metadata": {},
   "source": [
    "# Use your models!\n",
    "\n",
    "Welcome to the end of this tutorial! In this notebook we will learn to load our classifiers built in the previous phases and we will use them to make our Ant autonomous in the decisions. Let's start!"
   ]
  },
  {
   "cell_type": "markdown",
   "metadata": {},
   "source": [
    "## 1. Use the Decision Tree model!\n",
    "\n",
    "First, you need to load the model: use `m`, `N` and `num_of_matches` to load the right model"
   ]
  },
  {
   "cell_type": "code",
   "execution_count": null,
   "metadata": {},
   "outputs": [],
   "source": [
    "from joblib import load\n",
    "\n",
    "# These parameters must be set to load the right model\n",
    "m = 1\n",
    "num_of_matches = 10\n",
    "path_of_model = 'output/train_set_m{}/model_Tree_{}_{}.h5'.format(m, num_of_matches, num_of_matches)\n",
    "tree_clf = load(path_of_model)\n",
    "\n",
    "print('model loaded')"
   ]
  },
  {
   "cell_type": "markdown",
   "metadata": {},
   "source": [
    "**Now we're ready to use that model!**\n",
    "\n",
    "After you have run the cell below, you will see the outcome of all the decisions and moves made by the ant."
   ]
  },
  {
   "cell_type": "code",
   "execution_count": null,
   "metadata": {},
   "outputs": [],
   "source": [
    "from Ant import Ant\n",
    "import numpy as np\n",
    "from IPython.display import clear_output\n",
    "\n",
    "N = 10\n",
    "Scott_Lang = Ant(m, N)\n",
    "\n",
    "while Scott_Lang.isAlive and Scott_Lang.n_of_moves != 2 * N:\n",
    "    # comment this to see all grid generated\n",
    "    # clear_output()\n",
    "    print('your score: ' + str(Scott_Lang.score))\n",
    "    print('n_of_moves:' + str(Scott_Lang.n_of_moves) + '\\n')\n",
    "    Scott_Lang.draw_field_of_game()\n",
    "    # fow is field of view of Scott\n",
    "    fow = Scott_Lang.look_around(Scott_Lang.orientation)\n",
    "    # reshape fow because i need a 2D array\n",
    "    x_test = np.reshape(fow, (1, len(fow)))\n",
    "    y_pred = tree_clf.predict(x_test)\n",
    "    Scott_Lang.read_command_from_classifier(y_pred[0])\n",
    "    print('Predicted:' + y_pred[0])\n",
    "    print('\\n\\n\\n\\n')\n"
   ]
  },
  {
   "cell_type": "markdown",
   "metadata": {},
   "source": [
    "## 2. Use the Artificial Neural Network model!\n",
    "Same old story! Load the ANN and use `m`, `N` and `num_of_matches`."
   ]
  },
  {
   "cell_type": "code",
   "execution_count": null,
   "metadata": {},
   "outputs": [],
   "source": [
    "from keras.models import load_model\n",
    "\n",
    "# These parameters must be set to load the right model\n",
    "m = 1\n",
    "N = 10\n",
    "num_of_matches = 10\n",
    "\n",
    "path_of_model = 'output/train_set_m{}/model_N_N_{}_{}.h5'.format(m, num_of_matches, num_of_matches)\n",
    "model = load_model(path_of_model)\n",
    "print('model loaded')"
   ]
  },
  {
   "cell_type": "markdown",
   "metadata": {},
   "source": [
    "**Now we're ready to use that model!**\n",
    " \n",
    "After you have run the cell below, you will see the outcome of all the decisions and moves made by the ant. Look at the parameter of the function `read_command_from_classifier()`: it is necessary to set the second parameter to True when the classifier used is an artificial neural network"
   ]
  },
  {
   "cell_type": "code",
   "execution_count": null,
   "metadata": {},
   "outputs": [],
   "source": [
    "from Ant import Ant\n",
    "import numpy as np\n",
    "from IPython.display import clear_output\n",
    "\n",
    "Scott_Lang = Ant(m, N)\n",
    "\n",
    "while Scott_Lang.isAlive and Scott_Lang.n_of_moves != 2 * N:\n",
    "    # comment this to see all grid generated\n",
    "    # clear_output()\n",
    "    print('your score: ' + str(Scott_Lang.score))\n",
    "    print('n_of_moves:' + str(Scott_Lang.n_of_moves) + '\\n')\n",
    "    Scott_Lang.draw_field_of_game()\n",
    "    # fow is field of view of Scott\n",
    "    fow = Scott_Lang.look_around(Scott_Lang.orientation)\n",
    "    # reshape fow because i need a 2D array\n",
    "    x_test = np.reshape(fow, (1, len(fow)))\n",
    "    y_pred = model.predict_classes(x_test)\n",
    "    Scott_Lang.read_command_from_classifier(y_pred[0], True)\n",
    "    # print('Predicted:' + str(y_pred[0]))\n",
    "    print('\\n\\n\\n\\n')\n"
   ]
  },
  {
   "cell_type": "markdown",
   "metadata": {},
   "source": [
    "## 3. END GAME!"
   ]
  },
  {
   "cell_type": "code",
   "execution_count": null,
   "metadata": {},
   "outputs": [],
   "source": [
    "from IPython.display import Image\n",
    "from IPython.core.display import HTML \n",
    "Image(url= \"images/thano.jpg\")"
   ]
  },
  {
   "cell_type": "code",
   "execution_count": null,
   "metadata": {},
   "outputs": [],
   "source": []
  }
 ],
 "metadata": {
  "kernelspec": {
   "display_name": "Python 3",
   "language": "python",
   "name": "python3"
  },
  "language_info": {
   "codemirror_mode": {
    "name": "ipython",
    "version": 3
   },
   "file_extension": ".py",
   "mimetype": "text/x-python",
   "name": "python",
   "nbconvert_exporter": "python",
   "pygments_lexer": "ipython3",
   "version": "3.6.5"
  }
 },
 "nbformat": 4,
 "nbformat_minor": 2
}
