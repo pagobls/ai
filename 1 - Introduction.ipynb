{
 "cells": [
  {
   "cell_type": "markdown",
   "metadata": {},
   "source": [
    "# The Ant Game \n",
    "Welcome to The Ant Game! This is a funny way to learn about machine learning algorithms and how they works. Before starting, we must install all needed dependencies by running all command listed in the previous notebook. At the end all of notebooks, we will be able to see that the Ant will be able to play alone, making decisions based on the games played by us previously.\n",
    "\n",
    "## Rules\n",
    "1. The game consists of an NxN grid where in the initialization phase N cells are randomly filled with food (value +1), while all other cells are empty (value 0). \n",
    "\n",
    "2. The ant is positioned on a random empty cell. \n",
    "\n",
    "3. The ant can move in 4 directions: UP, DOWN, LEFT and RIGHT. \n",
    "\n",
    "4. Each time the ant moves it acquires the score of the cell in which it has moved and   decreases the value of the cell by 1, thus leaving a trace of its own passage. \n",
    "\n",
    "5. If the ant comes out of the grid it dies, it is penalized by N + 2 points and the game ends. \n",
    "\n",
    "6. The ant's field of view is a square of side 2m + 1 (with m = 1 or m = 2) centered in the cell where it is located. \n",
    "\n",
    "The aim of the game is to maximize the ant's accumulated score in 2N moves starting from a predetermined position.\n",
    "\n",
    "## Train the ant!\n",
    "To do this, all you have to do is play *using a reference system attached to the ant and oriented in the direction of motion*, using the following keys:\n",
    "\n",
    "* UP:    **t**\n",
    "* DOWN:  **v**\n",
    "* RIGHT: **h**\n",
    "* LEFT:  **f**\n",
    "\n",
    "\n",
    "Playing in this way, the ant always looks forward and notes in a file what it sees relative to its orientation. \n",
    "\n",
    "The file will be generated in the output directory of the notebook's workspace and each time appended when a new series of training games will be played. \n",
    "Therefore, if you want to generate a new dataset with the same parameters `m` and `n_of_matches`, **you must manually delete the file**. The choice was made to leave the user full freedom of control over the data generated.\n",
    "\n",
    "\n",
    "**Some tips**\n",
    "- playing the games \"at their best\", that is, looking at the entire chess board and generating the best path, the examples will tend to contain moves mostly in the center of the board. In this way in the training set there will be no examples useful for developing \"wall following\" or \"wall avoiding\" behaviors with the consequent risk of generating behaviors in which the ant tends to leave the playing area.\n",
    "\n",
    "- If the ant's neighborhood is made up of all equal values (in particular null values), there is no preferential direction to move towards. So in an \"empty\" area the ant always moves towards one of the edges. Having reached the edge, it has negative values in its surroundings (behind it and in front of it). Without information, except the negative value of the cell visited, a possible solution is to generate a random move that avoids the only direction of origin"
   ]
  },
  {
   "cell_type": "code",
   "execution_count": null,
   "metadata": {},
   "outputs": [],
   "source": [
    "from Ant import Ant\n",
    "from IPython.display import clear_output\n",
    "\n",
    "print('\\n')\n",
    "print('Welcome to the Ant Game')\n",
    "# the m parameter\n",
    "m = 1\n",
    "# the n parameter\n",
    "N = 10\n",
    "# this is the number of training games that must be played\n",
    "num_of_matches = 5\n",
    "\n",
    "for i in range(num_of_matches):\n",
    "    print('**************************************************************')\n",
    "    print('Match: ' + str(i+1))\n",
    "    Scott_Lang = Ant(m, N)\n",
    "\n",
    "    while Scott_Lang.isAlive and Scott_Lang.n_of_moves != 2*N:\n",
    "        print('your score: ' + str(Scott_Lang.score))\n",
    "        print('n_of_moves:' + str(Scott_Lang.n_of_moves) + '\\n')\n",
    "        Scott_Lang.draw_field_of_game()\n",
    "        # read the key from user\n",
    "        p = input()\n",
    "        # print on a file the ant's neighborhood and the relative move\n",
    "        Scott_Lang.print_on_a_file(p, num_of_matches)\n",
    "        Scott_Lang.read_command_from_user(p)\n",
    "        # comment this to see all grid generated\n",
    "        # clear_output()"
   ]
  },
  {
   "cell_type": "markdown",
   "metadata": {},
   "source": [
    "## And now?\n",
    "\n",
    "Congratulations! You have created the knowledge base of our ant. \n",
    "\n",
    "If you are satisfied, you can continue with the next notebook!\n",
    "See you later!"
   ]
  },
  {
   "cell_type": "code",
   "execution_count": null,
   "metadata": {},
   "outputs": [],
   "source": [
    "from IPython.display import Image\n",
    "from IPython.core.display import HTML \n",
    "Image(url= \"images/ant.jpg\")"
   ]
  },
  {
   "cell_type": "code",
   "execution_count": null,
   "metadata": {},
   "outputs": [],
   "source": []
  }
 ],
 "metadata": {
  "kernelspec": {
   "display_name": "Python 3",
   "language": "python",
   "name": "python3"
  },
  "language_info": {
   "codemirror_mode": {
    "name": "ipython",
    "version": 3
   },
   "file_extension": ".py",
   "mimetype": "text/x-python",
   "name": "python",
   "nbconvert_exporter": "python",
   "pygments_lexer": "ipython3",
   "version": "3.6.5"
  }
 },
 "nbformat": 4,
 "nbformat_minor": 2
}
