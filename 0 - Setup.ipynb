{
 "cells": [
  {
   "cell_type": "markdown",
   "metadata": {},
   "source": [
    "# Setup\n",
    "The recommendend version of Python is 3.6.x .\n",
    "\n",
    "Use apt to install and then remove numpy and matplotlib so we can have all the dependencies, then we install them using pip3 for the latest version\n",
    "\n",
    "`sudo apt install python3 python3-pip python3-numpy python3-matplotlib`\n",
    "\n",
    "`sudo apt remove python3-numpy python3-matplotlib`\n",
    "\n",
    "\n",
    "`sudo pip3 install --upgrade pip`\n",
    "\n",
    "`sudo pip3 install numpy matplotlib`\n",
    "\n",
    "`sudo pip3 install tensorflow`\n",
    "\n",
    "`sudo pip3 install pandas`\n",
    "\n",
    "`sudo pip3 install -U scikit-learn`\n",
    "\n",
    "`sudo pip3 install graphviz`\n",
    "\n",
    "\n",
    "optional:\n",
    "`sudo pip3 install jupyter`\n",
    "\n",
    "Install your favorite code editor!\n",
    "\n",
    "\n",
    "For other OS please install the same packages.\n",
    "Have a look at Conda https://conda.io/docs/user-guide/install/windows.html and follow the following guide: https://www.tensorflow.org/install/\n"
   ]
  },
  {
   "cell_type": "code",
   "execution_count": 1,
   "metadata": {},
   "outputs": [
    {
     "ename": "ModuleNotFoundError",
     "evalue": "No module named 'tensorflow'",
     "output_type": "error",
     "traceback": [
      "\u001b[0;31m---------------------------------------------------------------------------\u001b[0m",
      "\u001b[0;31mModuleNotFoundError\u001b[0m                       Traceback (most recent call last)",
      "\u001b[0;32m<ipython-input-1-3f3c88db39fe>\u001b[0m in \u001b[0;36m<module>\u001b[0;34m\u001b[0m\n\u001b[0;32m----> 1\u001b[0;31m \u001b[0;32mimport\u001b[0m \u001b[0mtensorflow\u001b[0m\u001b[0;34m\u001b[0m\u001b[0;34m\u001b[0m\u001b[0m\n\u001b[0m\u001b[1;32m      2\u001b[0m \u001b[0mprint\u001b[0m\u001b[0;34m(\u001b[0m\u001b[0;34m\"tensorflow\"\u001b[0m\u001b[0;34m,\u001b[0m \u001b[0mtensorflow\u001b[0m\u001b[0;34m.\u001b[0m\u001b[0m__version__\u001b[0m\u001b[0;34m)\u001b[0m\u001b[0;34m\u001b[0m\u001b[0;34m\u001b[0m\u001b[0m\n\u001b[1;32m      3\u001b[0m \u001b[0;34m\u001b[0m\u001b[0m\n\u001b[1;32m      4\u001b[0m \u001b[0;32mfrom\u001b[0m \u001b[0mtensorflow\u001b[0m \u001b[0;32mimport\u001b[0m \u001b[0mkeras\u001b[0m\u001b[0;34m\u001b[0m\u001b[0;34m\u001b[0m\u001b[0m\n\u001b[1;32m      5\u001b[0m \u001b[0mprint\u001b[0m\u001b[0;34m(\u001b[0m\u001b[0;34m\"keras\"\u001b[0m\u001b[0;34m,\u001b[0m \u001b[0mkeras\u001b[0m\u001b[0;34m.\u001b[0m\u001b[0m__version__\u001b[0m\u001b[0;34m)\u001b[0m\u001b[0;34m\u001b[0m\u001b[0;34m\u001b[0m\u001b[0m\n",
      "\u001b[0;31mModuleNotFoundError\u001b[0m: No module named 'tensorflow'"
     ]
    }
   ],
   "source": [
    "import tensorflow\n",
    "print(\"tensorflow\", tensorflow.__version__)\n",
    "\n",
    "from tensorflow import keras\n",
    "print(\"keras\", keras.__version__)\n",
    "\n",
    "print()\n",
    "print(\"All OK\")"
   ]
  },
  {
   "cell_type": "markdown",
   "metadata": {},
   "source": [
    "## How use these notebooks\n",
    "\n",
    "The best way to deal with the various notebooks is to run them in the order in which they are proposed. However, if you want to start the execution from notebook 2, the folder `/notebook/file/` is provided in which there are training data related to the games played by me. The only thing to do in this case is to copy the contents of this directory and overwrite the `/notebook/output` folder.\n",
    "\n"
   ]
  }
 ],
 "metadata": {
  "kernelspec": {
   "display_name": "Python 3",
   "language": "python",
   "name": "python3"
  },
  "language_info": {
   "codemirror_mode": {
    "name": "ipython",
    "version": 3
   },
   "file_extension": ".py",
   "mimetype": "text/x-python",
   "name": "python",
   "nbconvert_exporter": "python",
   "pygments_lexer": "ipython3",
   "version": "3.8.2"
  }
 },
 "nbformat": 4,
 "nbformat_minor": 2
}
